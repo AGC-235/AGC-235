{
 "cells": [
  {
   "cell_type": "markdown",
   "metadata": {},
   "source": [
    "# Data Science Tools and Ecosystem"
   ]
  },
  {
   "cell_type": "markdown",
   "metadata": {},
   "source": [
    "In this notebook, Data Science Tools and Ecosystem are summarized."
   ]
  },
  {
   "cell_type": "markdown",
   "metadata": {},
   "source": [
    "**Objectives:**"
   ]
  },
  {
   "cell_type": "markdown",
   "metadata": {},
   "source": [
    "<ul>\n",
    "<li>List popular languages for Data Science</li>\n",
    "<li>List some of the most common libraries used by Data Scientist</li>\n",
    "<li>Expose some of the data science tools in a table</li>\n",
    "</ul>"
   ]
  },
  {
   "cell_type": "markdown",
   "metadata": {},
   "source": [
    "<ol> Some of the popular languages that Data Scientists use are:\n",
    "    <li>Python</li>\n",
    "    <li>Java</li>\n",
    "    <li>SQL</li>\n",
    "</ol>"
   ]
  },
  {
   "cell_type": "markdown",
   "metadata": {},
   "source": [
    "<ol> Some of the commonly used libraries used by Data Scientists include:\n",
    "    <li>Tensorflow</li>\n",
    "    <li>NumPy</li>\n",
    "    <li>SciKit-Learn</li>\n",
    "</ol>"
   ]
  },
  {
   "cell_type": "markdown",
   "metadata": {},
   "source": [
    "<table style=\"width:30%\">\n",
    "<tr>\n",
    "<th>Data Science Tools </th>\n",
    "</tr>\n",
    "</table>\n",
    "\n",
    "<table style=\"width:30%\">\n",
    "\n",
    "<tr>\n",
    "<th>Categories</th>\n",
    "<th>Example</th>\n",
    "</tr>\n",
    "    \n",
    "<tr>\n",
    "<td>Development Environments</td>\n",
    "<td>Jupyter Notebooks and RStudio</td>\n",
    "</tr>\n",
    "\n",
    "<tr>\n",
    "<td>Data Management</td>\n",
    "<td>MySQL, MongoDB, Apache Hadoop and Apache Spark</td>\n",
    "</tr>\n",
    "\n",
    "<tr>\n",
    "<td>Data Integration and Transformation</td>\n",
    "<td>Apache Airflow and Apache Kafka</td>\n",
    "</tr>\n",
    "\n",
    "<tr>\n",
    "<td>Code Asset Management Tools</td>\n",
    "<td>GitHub</td>\n",
    "</tr>\n",
    "\n",
    "</table>"
   ]
  },
  {
   "cell_type": "markdown",
   "metadata": {},
   "source": [
    "### Below are a few examples of evaluating arithmetic expressions in Python"
   ]
  },
  {
   "cell_type": "code",
   "execution_count": 1,
   "metadata": {},
   "outputs": [
    {
     "data": {
      "text/plain": [
       "17"
      ]
     },
     "execution_count": 1,
     "metadata": {},
     "output_type": "execute_result"
    }
   ],
   "source": [
    "(3*4)+5"
   ]
  },
  {
   "cell_type": "markdown",
   "metadata": {},
   "source": [
    "This a simple arithmetic expression to mutiply then add integers"
   ]
  },
  {
   "cell_type": "code",
   "execution_count": 2,
   "metadata": {},
   "outputs": [
    {
     "data": {
      "text/plain": [
       "3.3333333333333335"
      ]
     },
     "execution_count": 2,
     "metadata": {},
     "output_type": "execute_result"
    }
   ],
   "source": [
    "200/60"
   ]
  },
  {
   "cell_type": "markdown",
   "metadata": {},
   "source": [
    "This will convert 200 minutes to hours by diving by 60"
   ]
  },
  {
   "cell_type": "markdown",
   "metadata": {},
   "source": [
    "## Author"
   ]
  },
  {
   "cell_type": "markdown",
   "metadata": {},
   "source": [
    "Emmanuel Angel Ponciano"
   ]
  },
  {
   "cell_type": "code",
   "execution_count": null,
   "metadata": {},
   "outputs": [],
   "source": []
  }
 ],
 "metadata": {
  "kernelspec": {
   "display_name": "Python 3 (ipykernel)",
   "language": "python",
   "name": "python3"
  },
  "language_info": {
   "codemirror_mode": {
    "name": "ipython",
    "version": 3
   },
   "file_extension": ".py",
   "mimetype": "text/x-python",
   "name": "python",
   "nbconvert_exporter": "python",
   "pygments_lexer": "ipython3",
   "version": "3.12.4"
  }
 },
 "nbformat": 4,
 "nbformat_minor": 4
}
